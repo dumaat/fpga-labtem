{
 "cells": [
  {
   "cell_type": "markdown",
   "id": "122bdba4",
   "metadata": {},
   "source": [
    " # Primeiro Teste FPGA PYNQ-Z2 XILYNX\n",
    " \n",
    "Esse teste tem como objetivo interagir com os base overlays da biblioteca da PYNQ que interagem com o GPIO placa -desenvolvimento.\n",
    "\n",
    "## Referências\n",
    "[Documentação PYNQ](https://pynq.readthedocs.io/en/latest/index.html) - Documentação geral de todos os passos até chegar aqui:\n",
    "1. Como criar a imagem de disco para o cartão de memória que está conectado na placa\n",
    "2. Como se conectar com a placa via rede\n",
    "\n",
    "[Base overlay - Documentação PYNQ](https://pynq.readthedocs.io/en/latest/pynq_overlays/pynqz2/pynqz2_base_overlay.html) - \n",
    "Essa documentação explica diretamente sobre o base overlay, que permite interação com a IO da placa diretamente a partir de código Python\n",
    "\n",
    "[pynq.overlay Module - Documentação PYNQ](https://pynq.readthedocs.io/en/latest/pynq_package/pynq.overlay.html) - Documentação de um dos módulos importados\n",
    "\n",
    "[pynq.lib Module - Documentação PYNQ](https://pynq.readthedocs.io/en/latest/pynq_package/pynq.lib.html) - Documentação de um dos módulos importados\n",
    "\n",
    "[Progit](https://github.com/progit/progit2/releases/download/2.1.408/progit.pdf) - \n",
    "Livro tutorial completo de como utilizar o git - bom para saber como clonar gits para os arquivos da placa\n",
    "\n",
    "[TUL](https://www.tulembedded.com/FPGA/ProductsPYNQ-Z2.html) - \n",
    "Site da fabricante da placa - origem de todos os outros links, além de tutoriais e forums\n",
    "\n",
    "[Tutorial de Onboarding para desenvolvimento PYNQ](https://github.com/Xilinx/PYNQ_Workshop.git) - Tutorial que eu usei para aprender a mexer com o GPIO da placa\n",
    "\n",
    "É altamente recomendável também entender os atalhos do Jupyter que são ensinados no tutorial de onboarding e no Help desse site.\n",
    "\n",
    "## Objetivo\n",
    "Entender melhor como funcionam os overlays e se familiarizar com o dispositivo para depois começar a desenvolver os meus próprios overlays de baixo nível através do Vivado."
   ]
  },
  {
   "cell_type": "markdown",
   "id": "31f5213c",
   "metadata": {},
   "source": [
    "## Exemplo Básico\n",
    "\n",
    "### Importando o base overlay"
   ]
  },
  {
   "cell_type": "code",
   "execution_count": 40,
   "id": "92249b42",
   "metadata": {},
   "outputs": [],
   "source": [
    "from pynq.overlays.base import BaseOverlay\n",
    "base = BaseOverlay(\"base.bit\")"
   ]
  },
  {
   "cell_type": "markdown",
   "id": "2793baca",
   "metadata": {
    "slideshow": {
     "slide_type": "slide"
    }
   },
   "source": [
    "### Entendendo melhor o que é \"base\" usando comandos IPython\n",
    "base é uma classe que foi instanciada do tipo BaseOverlay, onde a str que foi passada como parâmetro é o nome da bitstream ou o caminho absoluto dela. "
   ]
  },
  {
   "cell_type": "code",
   "execution_count": 42,
   "id": "dc1a64a1",
   "metadata": {},
   "outputs": [],
   "source": [
    "base?"
   ]
  },
  {
   "cell_type": "markdown",
   "id": "16b4bdbb",
   "metadata": {},
   "source": [
    "### Importando do módulo pynq.lib as classes LED, Switch e Button"
   ]
  },
  {
   "cell_type": "code",
   "execution_count": 43,
   "id": "88fe60a9",
   "metadata": {},
   "outputs": [],
   "source": [
    "from pynq.lib import LED, Switch, Button"
   ]
  },
  {
   "cell_type": "code",
   "execution_count": 45,
   "id": "7026de5e",
   "metadata": {},
   "outputs": [],
   "source": [
    "led0=base.leds[0]"
   ]
  },
  {
   "cell_type": "markdown",
   "id": "f11c1eed",
   "metadata": {},
   "source": [
    "### Ligando o led"
   ]
  },
  {
   "cell_type": "code",
   "execution_count": 49,
   "id": "a5ed7b8b",
   "metadata": {},
   "outputs": [],
   "source": [
    "led0.on()"
   ]
  },
  {
   "cell_type": "markdown",
   "id": "d47f8ce7",
   "metadata": {},
   "source": [
    "### Desligando o led"
   ]
  },
  {
   "cell_type": "code",
   "execution_count": 50,
   "id": "2b5bfc8a",
   "metadata": {},
   "outputs": [],
   "source": [
    "led0.off()"
   ]
  },
  {
   "cell_type": "markdown",
   "id": "3c3e548b",
   "metadata": {},
   "source": [
    "### Fazendo o led piscar"
   ]
  },
  {
   "cell_type": "code",
   "execution_count": 51,
   "id": "603a2de0",
   "metadata": {},
   "outputs": [],
   "source": [
    "import time\n",
    "led0=base.leds[0]\n",
    "for i in range(20):\n",
    "    led0.toggle()\n",
    "    time.sleep(.1)"
   ]
  },
  {
   "cell_type": "markdown",
   "id": "fb450278",
   "metadata": {},
   "source": []
  }
 ],
 "metadata": {
  "kernelspec": {
   "display_name": "Python 3 (ipykernel)",
   "language": "python",
   "name": "python3"
  },
  "language_info": {
   "codemirror_mode": {
    "name": "ipython",
    "version": 3
   },
   "file_extension": ".py",
   "mimetype": "text/x-python",
   "name": "python",
   "nbconvert_exporter": "python",
   "pygments_lexer": "ipython3",
   "version": "3.10.4"
  }
 },
 "nbformat": 4,
 "nbformat_minor": 5
}
