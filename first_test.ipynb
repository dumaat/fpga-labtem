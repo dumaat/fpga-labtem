{
 "cells": [
  {
   "cell_type": "markdown",
   "id": "3653f295",
   "metadata": {},
   "source": [
    " # Primeiro Teste FPGA PYNQ-Z2 XLILYNX\n",
    " \n",
    "Esse teste tem como objetivo interagir com os base overlays da biblioteca da PYNQ que interagem com o GPIO da plataforma de desenvolvimento.\n",
    "\n",
    "## Referências\n",
    "[Documentação PYNQ](https://pynq.readthedocs.io/en/latest/index.html) - Documentação geral de todos os passos até chegar aqui:\n",
    "1. Como criar a imagem de disco para o cartão de memória que está conectado na placa\n",
    "2. Como se conectar com a placa via rede\n",
    "\n",
    "[Base overlay - Documentação PYNQ](https://pynq.readthedocs.io/en/latest/pynq_overlays/pynqz2/pynqz2_base_overlay.html)\n",
    "Essa documentação explica diretamente sobre o base overlay, que permite interação com a IO da placa diretamente a partir de código Python\n",
    "\n",
    "[Progit](https://github.com/progit/progit2/releases/download/2.1.408/progit.pdf) \n",
    "Livro tutorial completo de como utilizar o git - bom para saber como clonar gits para os arquivos da placa\n",
    "\n",
    "[TUL](https://www.tulembedded.com/FPGA/ProductsPYNQ-Z2.html) \n",
    "Site da fabricante da placa - origem de todos os outros links, além de tutoriais e forums\n",
    "\n",
    "[Tutorial de Onboarding para desenvolvimento PYNQ])()"
   ]
  },
  {
   "cell_type": "code",
   "execution_count": null,
   "id": "a611f879",
   "metadata": {},
   "outputs": [],
   "source": []
  },
  {
   "cell_type": "code",
   "execution_count": null,
   "id": "1f513395",
   "metadata": {},
   "outputs": [],
   "source": []
  }
 ],
 "metadata": {
  "kernelspec": {
   "display_name": "Python 3 (ipykernel)",
   "language": "python",
   "name": "python3"
  },
  "language_info": {
   "codemirror_mode": {
    "name": "ipython",
    "version": 3
   },
   "file_extension": ".py",
   "mimetype": "text/x-python",
   "name": "python",
   "nbconvert_exporter": "python",
   "pygments_lexer": "ipython3",
   "version": "3.10.4"
  }
 },
 "nbformat": 4,
 "nbformat_minor": 5
}
